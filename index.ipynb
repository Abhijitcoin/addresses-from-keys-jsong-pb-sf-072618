{
 "cells": [
  {
   "cell_type": "markdown",
   "metadata": {},
   "source": [
    "# Creating Addresses"
   ]
  },
  {
   "cell_type": "code",
   "execution_count": 1,
   "metadata": {},
   "outputs": [
    {
     "name": "stdout",
     "output_type": "stream",
     "text": [
      "b'19ZewH8Kk1PDbSNdJ97FP4EiCjTRaZMZQA'\n"
     ]
    }
   ],
   "source": [
    "# Address Example\n",
    "\n",
    "from helper import encode_base58, hash160, double_sha256\n",
    "sec = bytes.fromhex('025CBDF0646E5DB4EAA398F365F2EA7A0E3D419B7E0330E39CE92BDDEDCAC4F9BC')\n",
    "h160 = hash160(sec)\n",
    "raw = b\"\\x00\" + h160\n",
    "raw = raw + double_sha256(raw)[:4]\n",
    "addr = encode_base58(raw)\n",
    "print(addr)"
   ]
  },
  {
   "cell_type": "markdown",
   "metadata": {},
   "source": [
    "### Try it\n",
    "\n",
    "#### Find the mainnet and testnet addresses corresponding to the private keys:\n",
    "```\n",
    "compressed, 888**3\n",
    "uncompressed, 321\n",
    "uncompressed, 4242424242\n",
    "```"
   ]
  },
  {
   "cell_type": "code",
   "execution_count": 1,
   "metadata": {},
   "outputs": [
    {
     "name": "stdout",
     "output_type": "stream",
     "text": [
      "\n",
      "\n",
      "\n",
      "Here we go\n",
      "S256Point(70a9b78b89eab10067ac93d72a255238121936007fa99a73a2f59a3693a730d1,6246823af005ea17ab93d7d8806e57199fc116f88c257195dbae98475c478214)\n",
      "b'\\x02p\\xa9\\xb7\\x8b\\x89\\xea\\xb1\\x00g\\xac\\x93\\xd7*%R8\\x12\\x196\\x00\\x7f\\xa9\\x9as\\xa2\\xf5\\x9a6\\x93\\xa70\\xd1'\n",
      "148dY81A9BmdpMhvYEVznrM45kWN32vSCN\n",
      "mieaqB68xDCtbUBYFoUNcmZNwk74xcBfTP\n",
      "\n",
      "\n",
      "\n",
      "Here we go\n",
      "S256Point(8b4544fc1fdfa06e456c1115a1dc831c85e7f1c5e620eca51c20802d36a4bc6b,e3e77c41288f2602e722af7f4b70e64de4116fb9955b03b06ea8b19f7a20350d)\n",
      "b'\\x04\\x8bED\\xfc\\x1f\\xdf\\xa0nEl\\x11\\x15\\xa1\\xdc\\x83\\x1c\\x85\\xe7\\xf1\\xc5\\xe6 \\xec\\xa5\\x1c \\x80-6\\xa4\\xbck\\xe3\\xe7|A(\\x8f&\\x02\\xe7\"\\xaf\\x7fKp\\xe6M\\xe4\\x11o\\xb9\\x95[\\x03\\xb0n\\xa8\\xb1\\x9fz 5\\r'\n",
      "1S6g2xBJSED7Qr9CYZib5f4PYVhHZiVfj\n",
      "mfx3y63A7TfTtXKkv7Y6QzsPFY6QCBCXiP\n",
      "\n",
      "\n",
      "\n",
      "Here we go\n",
      "S256Point(ce08be2be6bf5ae38bc469bd3c9b53280ca9b8f89f247ed83c8bb571612ddbf9,d299a81516d1796e8b596c6f9cbe71c1f038100241b0cab5cca4deaeaf71fe99)\n",
      "b'\\x04\\xce\\x08\\xbe+\\xe6\\xbfZ\\xe3\\x8b\\xc4i\\xbd<\\x9bS(\\x0c\\xa9\\xb8\\xf8\\x9f$~\\xd8<\\x8b\\xb5qa-\\xdb\\xf9\\xd2\\x99\\xa8\\x15\\x16\\xd1yn\\x8bYlo\\x9c\\xbeq\\xc1\\xf08\\x10\\x02A\\xb0\\xca\\xb5\\xcc\\xa4\\xde\\xae\\xafq\\xfe\\x99'\n",
      "1226JSptcStqn4Yq9aAmNXdwdc2ixuH9nb\n",
      "mgY3bVusRUL6ZB2Ss999CSrGVbdRwVpM8s\n"
     ]
    }
   ],
   "source": [
    "from ecc import G\n",
    "\n",
    "from helper import double_sha256, encode_base58, hash160\n",
    "\n",
    "components = (\n",
    "    # (compressed, secret)\n",
    "    (True, 888**3),\n",
    "    (False, 321),\n",
    "    (False, 4242424242),\n",
    ")\n",
    "\n",
    "for compressed, secret in components:\n",
    "    print(\"\\n\\n\")\n",
    "    print(\"Here we go\")\n",
    "    point = secret*G\n",
    "    print(point)\n",
    "    sec = point.sec(compressed)\n",
    "    print(sec)\n",
    "    h160 = hash160(sec)\n",
    "    for prefix in (b'\\x00', b'\\x6f'):\n",
    "        raw = prefix + h160\n",
    "        checksum = double_sha256(raw)[:4]\n",
    "        total = raw + checksum\n",
    "        print(encode_base58(total).decode('ascii'))\n",
    "# iterate through components\n",
    "    # get the public point\n",
    "    # get the sec format\n",
    "    # hash160 the result\n",
    "    # prepend b'\\x00' for mainnet b'\\x6f' for testnet\n",
    "        # raw is the prefix + h160\n",
    "        # get the double_sha256 of raw, first 4 bytes are the checksum\n",
    "        # append checksum\n",
    "        # encode_base58 the whole thing"
   ]
  },
  {
   "cell_type": "markdown",
   "metadata": {},
   "source": [
    "### Test Driven Exercise"
   ]
  },
  {
   "cell_type": "code",
   "execution_count": null,
   "metadata": {},
   "outputs": [],
   "source": [
    "from ecc import S256Point, G\n",
    "\n",
    "from helper import double_sha256, encode_base58, hash160\n",
    "\n",
    "class S256Point(S256Point):\n",
    "\n",
    "    def address(self, compressed=True, testnet=False):\n",
    "        '''Returns the address string'''\n",
    "        sec = self.sec(compressed)\n",
    "        h160 = hash160(sec)\n",
    "        if testnet:\n",
    "            prefix = b'\\x6f'\n",
    "        else:\n",
    "            prefix = b'\\x00'\n",
    "        raw = prefix + h160\n",
    "        checksum = double_sha256(raw)[:4]\n",
    "        address = encode_base58(raw+checksum)\n",
    "        return address.decode('ascii')\n",
    "        # get the sec\n",
    "        # hash160 the sec\n",
    "        # raw is hash 160 prepended w/ b'\\x00' for mainnet, b'\\x6f' for testnet\n",
    "        # checksum is first 4 bytes of double_sha256 of raw\n",
    "        # encode_base58 the raw + checksum\n",
    "        # return as a string, you can use .decode('ascii') to do this.\n",
    "        pass"
   ]
  }
 ],
 "metadata": {
  "kernelspec": {
   "display_name": "Python 3",
   "language": "python",
   "name": "python3"
  },
  "language_info": {
   "codemirror_mode": {
    "name": "ipython",
    "version": 3
   },
   "file_extension": ".py",
   "mimetype": "text/x-python",
   "name": "python",
   "nbconvert_exporter": "python",
   "pygments_lexer": "ipython3",
   "version": "3.6.4"
  }
 },
 "nbformat": 4,
 "nbformat_minor": 2
}
